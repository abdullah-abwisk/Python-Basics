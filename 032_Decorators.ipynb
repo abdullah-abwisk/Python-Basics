{
 "cells": [
  {
   "cell_type": "markdown",
   "id": "f9bf79d7",
   "metadata": {},
   "source": [
    "## Application 1"
   ]
  },
  {
   "cell_type": "code",
   "execution_count": 4,
   "id": "a845e52d",
   "metadata": {},
   "outputs": [
    {
     "name": "stdout",
     "output_type": "stream",
     "text": [
      "example_function ran in 2.0050418376922607s\n"
     ]
    }
   ],
   "source": [
    "import time\n",
    "\n",
    "def timer(func):\n",
    "    def wrapper(*args, **kwargs):\n",
    "        start = time.time()\n",
    "        result = func(*args, **kwargs)\n",
    "        end = time.time()\n",
    "        print(f\"{func.__name__} ran in {end - start}s\")\n",
    "        return result\n",
    "    return wrapper\n",
    "\n",
    "@timer\n",
    "def example_function(n):\n",
    "    time.sleep(n)\n",
    "    \n",
    "example_function(2)"
   ]
  },
  {
   "cell_type": "markdown",
   "id": "8a068337",
   "metadata": {},
   "source": [
    "## Application 2"
   ]
  },
  {
   "cell_type": "code",
   "execution_count": 6,
   "id": "4e41aafe",
   "metadata": {},
   "outputs": [],
   "source": [
    "def debug(func):\n",
    "    def wrapper(*args, **kwargs):\n",
    "        args_value = ', '.join(str(arg) for arg in args)\n",
    "        kwargs_value = ', '.join(f\"{k} : {v}\" for k, v in kwargs.items())\n",
    "        print(f\"Calling: {func.__name__} with args {args_value}, and kwargs {kwargs_value}\")\n",
    "        return func(*args, **kwargs)\n",
    "    return wrapper\n",
    "\n",
    "@debug\n",
    "def greet(name, greeting = \"Hello\"):\n",
    "    print(f\"{greeting}, {name}\")\n",
    "\n",
    "@debug\n",
    "def hello():\n",
    "    print(\"Hello\")"
   ]
  },
  {
   "cell_type": "code",
   "execution_count": 7,
   "id": "f284822c",
   "metadata": {},
   "outputs": [
    {
     "name": "stdout",
     "output_type": "stream",
     "text": [
      "Calling: hello with args , and kwargs \n",
      "Hello\n"
     ]
    }
   ],
   "source": [
    "hello()"
   ]
  },
  {
   "cell_type": "code",
   "execution_count": 8,
   "id": "0dd1e11a",
   "metadata": {},
   "outputs": [
    {
     "name": "stdout",
     "output_type": "stream",
     "text": [
      "Calling: greet with args Abdullah, Ali, Sarmad, and kwargs \n",
      "Hello, Abdullah, Ali, Sarmad\n"
     ]
    }
   ],
   "source": [
    "greet(\"Abdullah, Ali, Sarmad\")"
   ]
  },
  {
   "cell_type": "markdown",
   "id": "c7dbcffa",
   "metadata": {},
   "source": [
    "## Application 3"
   ]
  },
  {
   "cell_type": "code",
   "execution_count": 17,
   "id": "eed09da7",
   "metadata": {},
   "outputs": [
    {
     "name": "stdout",
     "output_type": "stream",
     "text": [
      "{}\n"
     ]
    }
   ],
   "source": [
    "import time\n",
    "\n",
    "def cache(func):\n",
    "    cache_value = {}\n",
    "    print(cache_value)\n",
    "    def wrapper(*args):\n",
    "        start = time.time()\n",
    "        if args in cache_value:\n",
    "            end = time.time()\n",
    "            print(f\"Found in cache. Time to answer {end - start}s!\")\n",
    "            return cache_value[args]\n",
    "        result = func(*args)\n",
    "        cache_value[args] = result\n",
    "        end = time.time()\n",
    "        print(f\"Not found in cache. Time to answer {end - start}s!\")\n",
    "        end = time.time()\n",
    "        \n",
    "        return result\n",
    "    return wrapper\n",
    "\n",
    "@cache\n",
    "def long_running_function(a, b):\n",
    "    time.sleep(4)\n",
    "    return a + b"
   ]
  },
  {
   "cell_type": "code",
   "execution_count": 18,
   "id": "fc6d6162",
   "metadata": {},
   "outputs": [
    {
     "name": "stdout",
     "output_type": "stream",
     "text": [
      "Not found in cache. Time to answer 4.005074977874756s!\n",
      "5\n"
     ]
    }
   ],
   "source": [
    "print(long_running_function(2, 3))"
   ]
  },
  {
   "cell_type": "code",
   "execution_count": 19,
   "id": "0aeecf5b",
   "metadata": {},
   "outputs": [
    {
     "name": "stdout",
     "output_type": "stream",
     "text": [
      "Not found in cache. Time to answer 4.001359939575195s!\n",
      "9\n"
     ]
    }
   ],
   "source": [
    "print(long_running_function(2, 7))"
   ]
  },
  {
   "cell_type": "code",
   "execution_count": 20,
   "id": "d6c427f7",
   "metadata": {},
   "outputs": [
    {
     "name": "stdout",
     "output_type": "stream",
     "text": [
      "Not found in cache. Time to answer 4.0050368309021s!\n",
      "11\n"
     ]
    }
   ],
   "source": [
    "print(long_running_function(2, 9))"
   ]
  },
  {
   "cell_type": "code",
   "execution_count": 21,
   "id": "e3677b9c",
   "metadata": {},
   "outputs": [
    {
     "name": "stdout",
     "output_type": "stream",
     "text": [
      "Found in cache. Time to answer 9.5367431640625e-07s!\n",
      "5\n"
     ]
    }
   ],
   "source": [
    "print(long_running_function(2, 3))"
   ]
  },
  {
   "cell_type": "code",
   "execution_count": null,
   "id": "e7b53a76",
   "metadata": {},
   "outputs": [],
   "source": []
  }
 ],
 "metadata": {
  "kernelspec": {
   "display_name": "Python 3",
   "language": "python",
   "name": "python3"
  },
  "language_info": {
   "codemirror_mode": {
    "name": "ipython",
    "version": 3
   },
   "file_extension": ".py",
   "mimetype": "text/x-python",
   "name": "python",
   "nbconvert_exporter": "python",
   "pygments_lexer": "ipython3",
   "version": "3.11.7"
  }
 },
 "nbformat": 4,
 "nbformat_minor": 5
}
