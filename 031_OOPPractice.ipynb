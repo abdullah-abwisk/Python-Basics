{
 "cells": [
  {
   "cell_type": "markdown",
   "id": "9c6285c1",
   "metadata": {},
   "source": [
    "## Basic Class and Object"
   ]
  },
  {
   "cell_type": "code",
   "execution_count": 1,
   "id": "4a990be6",
   "metadata": {},
   "outputs": [],
   "source": [
    "## Basic Class\n",
    "class Car:\n",
    "    def __init__(self, brand, model):\n",
    "        self.brand = brand\n",
    "        self.model = model\n",
    "        \n",
    "    def full_name(self):\n",
    "        return f\"{self.brand} {self.model}\""
   ]
  },
  {
   "cell_type": "code",
   "execution_count": 3,
   "id": "c84016a3",
   "metadata": {},
   "outputs": [
    {
     "name": "stdout",
     "output_type": "stream",
     "text": [
      "Toyota\n",
      "Corolla\n",
      "Toyota Corolla\n"
     ]
    }
   ],
   "source": [
    "my_car = Car(\"Toyota\", \"Corolla\")\n",
    "print(my_car.brand)\n",
    "print(my_car.model)\n",
    "print(my_car.full_name())"
   ]
  },
  {
   "cell_type": "markdown",
   "id": "fc596421",
   "metadata": {},
   "source": [
    "## Inheritance"
   ]
  },
  {
   "cell_type": "code",
   "execution_count": 4,
   "id": "c71df25e",
   "metadata": {},
   "outputs": [],
   "source": [
    "## Inheritance\n",
    "class ElectricCar(Car):\n",
    "    def __init__(self, brand, model, battery_size):\n",
    "        super().__init__(brand, model)\n",
    "        self.battery_size = battery_size"
   ]
  },
  {
   "cell_type": "code",
   "execution_count": 6,
   "id": "1a8af7ac",
   "metadata": {},
   "outputs": [
    {
     "name": "stdout",
     "output_type": "stream",
     "text": [
      "Model S\n",
      "Tesla\n",
      "Tesla Model S\n"
     ]
    }
   ],
   "source": [
    "tesla = ElectricCar(\"Tesla\", \"Model S\", \"85 KWH\")\n",
    "print(tesla.model)\n",
    "print(tesla.brand)\n",
    "print(tesla.full_name())"
   ]
  },
  {
   "cell_type": "markdown",
   "id": "e66b16d3",
   "metadata": {},
   "source": [
    "## Encapsulation"
   ]
  },
  {
   "cell_type": "code",
   "execution_count": 11,
   "id": "4ddfb0b4",
   "metadata": {},
   "outputs": [],
   "source": [
    "## Encapsulation\n",
    "class Car:\n",
    "    def __init__(self, brand, model):\n",
    "        self.__brand = brand ## brand attribute made private\n",
    "        self.model = model\n",
    "        \n",
    "    def get_brand(self):\n",
    "        return self.__brand\n",
    "    \n",
    "    def set_brand(self, brand):\n",
    "        self.__brand = brand\n",
    "        \n",
    "    def full_name(self):\n",
    "        return f\"{self.__brand} {self.model}\""
   ]
  },
  {
   "cell_type": "code",
   "execution_count": 12,
   "id": "2518afe9",
   "metadata": {},
   "outputs": [],
   "source": [
    "## Inheritance\n",
    "class ElectricCar(Car):\n",
    "    def __init__(self, brand, model, battery_size):\n",
    "        super().__init__(brand, model)\n",
    "        self.battery_size = battery_size"
   ]
  },
  {
   "cell_type": "code",
   "execution_count": 14,
   "id": "8d90fb30",
   "metadata": {},
   "outputs": [
    {
     "name": "stdout",
     "output_type": "stream",
     "text": [
      "Model S\n",
      "Tesla\n",
      "Toyota Model S\n"
     ]
    }
   ],
   "source": [
    "tesla = ElectricCar(\"Tesla\", \"Model S\", \"85 KWH\")\n",
    "print(tesla.model)\n",
    "print(tesla.get_brand())\n",
    "tesla.set_brand('Toyota')\n",
    "print(tesla.full_name())"
   ]
  },
  {
   "cell_type": "markdown",
   "id": "3dc543ca",
   "metadata": {},
   "source": [
    "## Polymorphism"
   ]
  },
  {
   "cell_type": "code",
   "execution_count": 30,
   "id": "c578f862",
   "metadata": {},
   "outputs": [],
   "source": [
    "## Polymorphism\n",
    "class Car:\n",
    "    def __init__(self, brand, model):\n",
    "        self.__brand = brand ## brand attribute made private\n",
    "        self.model = model\n",
    "        \n",
    "    def get_brand(self):\n",
    "        return self.__brand\n",
    "    \n",
    "    def set_brand(self, brand):\n",
    "        self.__brand = brand\n",
    "        \n",
    "    def fuel_type(self):\n",
    "        return \"Petrol or Diesel\"\n",
    "        \n",
    "    def full_name(self):\n",
    "        return f\"{self.__brand} {self.model}\""
   ]
  },
  {
   "cell_type": "code",
   "execution_count": 31,
   "id": "a2e518dc",
   "metadata": {},
   "outputs": [],
   "source": [
    "## Inheritance\n",
    "class ElectricCar(Car):\n",
    "    def __init__(self, brand, model, battery_size):\n",
    "        super().__init__(brand, model)\n",
    "        self.battery_size = battery_size\n",
    "    \n",
    "    def fuel_type(self):\n",
    "        return \"Electric Charge\""
   ]
  },
  {
   "cell_type": "code",
   "execution_count": 32,
   "id": "f58f78a8",
   "metadata": {},
   "outputs": [],
   "source": [
    "tesla = ElectricCar(\"Tesla\", \"Model X\", \"85 KwH\")\n",
    "prado = Car(\"Toyota\", \"Prado TXL\")"
   ]
  },
  {
   "cell_type": "code",
   "execution_count": 33,
   "id": "fdeb13aa",
   "metadata": {},
   "outputs": [
    {
     "name": "stdout",
     "output_type": "stream",
     "text": [
      "Tesla fuel type: Electric Charge\n",
      "Prado fuel type: Petrol or Diesel\n"
     ]
    }
   ],
   "source": [
    "print(f\"Tesla fuel type: {tesla.fuel_type()}\")\n",
    "print(f\"Prado fuel type: {prado.fuel_type()}\")"
   ]
  },
  {
   "cell_type": "markdown",
   "id": "5f5e3020",
   "metadata": {},
   "source": [
    "## Class Variables"
   ]
  },
  {
   "cell_type": "code",
   "execution_count": null,
   "id": "cb229bb1",
   "metadata": {},
   "outputs": [],
   "source": [
    "## Class Variables\n",
    "class Car:\n",
    "    total_cars = 0\n",
    "    def __init__(self, brand, model):\n",
    "        self.__brand = brand ## brand attribute made private\n",
    "        self.model = model\n",
    "        Car.total_cars += 1\n",
    "        \n",
    "    def get_brand(self):\n",
    "        return self.__brand\n",
    "    \n",
    "    def set_brand(self, brand):\n",
    "        self.__brand = brand\n",
    "        \n",
    "    def fuel_type(self):\n",
    "        return \"Petrol or Diesel\"\n",
    "        \n",
    "    def full_name(self):\n",
    "        return f\"{self.__brand} {self.model}\""
   ]
  },
  {
   "cell_type": "code",
   "execution_count": 35,
   "id": "be7675cf",
   "metadata": {},
   "outputs": [],
   "source": [
    "## Inheritance\n",
    "class ElectricCar(Car):\n",
    "    def __init__(self, brand, model, battery_size):\n",
    "        super().__init__(brand, model)\n",
    "        self.battery_size = battery_size\n",
    "    \n",
    "    def fuel_type(self):\n",
    "        return \"Electric Charge\""
   ]
  },
  {
   "cell_type": "code",
   "execution_count": 36,
   "id": "7201341f",
   "metadata": {},
   "outputs": [],
   "source": [
    "tesla = ElectricCar(\"Tesla\", \"Model X\", \"85 KwH\")\n",
    "prado = Car(\"Toyota\", \"Prado TXL\")\n",
    "lexus = Car(\"Lexus\", \"LX 570\")"
   ]
  },
  {
   "cell_type": "code",
   "execution_count": 37,
   "id": "5eb78886",
   "metadata": {},
   "outputs": [
    {
     "name": "stdout",
     "output_type": "stream",
     "text": [
      "3\n"
     ]
    }
   ],
   "source": [
    "print(Car.total_cars)"
   ]
  },
  {
   "cell_type": "markdown",
   "id": "878b2fd0",
   "metadata": {},
   "source": [
    "## Static Method"
   ]
  },
  {
   "cell_type": "code",
   "execution_count": 38,
   "id": "438c181f",
   "metadata": {},
   "outputs": [],
   "source": [
    "## Static Method\n",
    "class Car:\n",
    "    total_cars = 0\n",
    "    def __init__(self, brand, model):\n",
    "        self.__brand = brand ## brand attribute made private\n",
    "        self.model = model\n",
    "        Car.total_cars += 1\n",
    "        \n",
    "    def get_brand(self):\n",
    "        return self.__brand\n",
    "    \n",
    "    def set_brand(self, brand):\n",
    "        self.__brand = brand\n",
    "        \n",
    "    def fuel_type(self):\n",
    "        return \"Petrol or Diesel\"\n",
    "        \n",
    "    def full_name(self):\n",
    "        return f\"{self.__brand} {self.model}\"\n",
    "    \n",
    "    @staticmethod\n",
    "    def general_description():\n",
    "        return \"Cars are a mode of transport.\""
   ]
  },
  {
   "cell_type": "code",
   "execution_count": 39,
   "id": "2eeaa4cb",
   "metadata": {},
   "outputs": [],
   "source": [
    "my_car = Car(\"Toyota\", \"Land Cruiser\")"
   ]
  },
  {
   "cell_type": "code",
   "execution_count": null,
   "id": "6ea69424",
   "metadata": {},
   "outputs": [
    {
     "name": "stdout",
     "output_type": "stream",
     "text": [
      "Cars are a mode of transport.\n"
     ]
    }
   ],
   "source": [
    "print(my_car.general_description())"
   ]
  },
  {
   "cell_type": "code",
   "execution_count": 41,
   "id": "d576f447",
   "metadata": {},
   "outputs": [
    {
     "name": "stdout",
     "output_type": "stream",
     "text": [
      "Cars are a mode of transport.\n"
     ]
    }
   ],
   "source": [
    "print(Car.general_description())"
   ]
  },
  {
   "cell_type": "markdown",
   "id": "042a0f30",
   "metadata": {},
   "source": [
    "## Property Decorator"
   ]
  },
  {
   "cell_type": "code",
   "execution_count": 55,
   "id": "7d54971e",
   "metadata": {},
   "outputs": [],
   "source": [
    "## Property Decorator\n",
    "class Car:\n",
    "    total_cars = 0\n",
    "    def __init__(self, brand, model):\n",
    "        self.__brand = brand ## brand attribute made private\n",
    "        self.__model = model ## model attribute also made private\n",
    "        Car.total_cars += 1\n",
    "        \n",
    "    def get_brand(self):\n",
    "        return self.__brand\n",
    "    \n",
    "    def set_brand(self, brand):\n",
    "        self.__brand = brand\n",
    "        \n",
    "    def fuel_type(self):\n",
    "        return \"Petrol or Diesel\"\n",
    "        \n",
    "    def full_name(self):\n",
    "        return f\"{self.__brand} {self.__model}\"\n",
    "    \n",
    "    @staticmethod\n",
    "    def general_description():\n",
    "        return \"Cars are a mode of transport.\"\n",
    "    \n",
    "    @property\n",
    "    def model(self):\n",
    "        return self.__model"
   ]
  },
  {
   "cell_type": "code",
   "execution_count": 56,
   "id": "db949de3",
   "metadata": {},
   "outputs": [],
   "source": [
    "my_car = Car(\"Toyota\", \"LC\")"
   ]
  },
  {
   "cell_type": "code",
   "execution_count": 57,
   "id": "b99bf758",
   "metadata": {},
   "outputs": [],
   "source": [
    "# This will not give an error but cannot update model\n",
    "my_car.__model = \"Model S\""
   ]
  },
  {
   "cell_type": "code",
   "execution_count": 58,
   "id": "dd924e8c",
   "metadata": {},
   "outputs": [
    {
     "name": "stdout",
     "output_type": "stream",
     "text": [
      "Toyota LC\n"
     ]
    }
   ],
   "source": [
    "print(my_car.full_name())"
   ]
  },
  {
   "cell_type": "code",
   "execution_count": 59,
   "id": "a421ce9f",
   "metadata": {},
   "outputs": [
    {
     "ename": "AttributeError",
     "evalue": "property 'model' of 'Car' object has no setter",
     "output_type": "error",
     "traceback": [
      "\u001b[31m---------------------------------------------------------------------------\u001b[39m",
      "\u001b[31mAttributeError\u001b[39m                            Traceback (most recent call last)",
      "\u001b[36mCell\u001b[39m\u001b[36m \u001b[39m\u001b[32mIn[59]\u001b[39m\u001b[32m, line 1\u001b[39m\n\u001b[32m----> \u001b[39m\u001b[32m1\u001b[39m \u001b[43mmy_car\u001b[49m\u001b[43m.\u001b[49m\u001b[43mmodel\u001b[49m = \u001b[33m\"\u001b[39m\u001b[33mModel S\u001b[39m\u001b[33m\"\u001b[39m\n",
      "\u001b[31mAttributeError\u001b[39m: property 'model' of 'Car' object has no setter"
     ]
    }
   ],
   "source": [
    "my_car.model = \"Model S\""
   ]
  },
  {
   "cell_type": "code",
   "execution_count": 61,
   "id": "26acd0c2",
   "metadata": {},
   "outputs": [
    {
     "name": "stdout",
     "output_type": "stream",
     "text": [
      "LC\n"
     ]
    }
   ],
   "source": [
    "print(my_car.model)"
   ]
  },
  {
   "cell_type": "markdown",
   "id": "19e19ffb",
   "metadata": {},
   "source": [
    "## Inheritance & isinstance() function"
   ]
  },
  {
   "cell_type": "code",
   "execution_count": 63,
   "id": "53bc2c64",
   "metadata": {},
   "outputs": [],
   "source": [
    "class Car:\n",
    "    total_cars = 0\n",
    "    def __init__(self, brand, model):\n",
    "        self.__brand = brand ## brand attribute made private\n",
    "        self.__model = model ## model attribute also made private\n",
    "        Car.total_cars += 1\n",
    "        \n",
    "    def get_brand(self):\n",
    "        return self.__brand\n",
    "    \n",
    "    def set_brand(self, brand):\n",
    "        self.__brand = brand\n",
    "        \n",
    "    def fuel_type(self):\n",
    "        return \"Petrol or Diesel\"\n",
    "        \n",
    "    def full_name(self):\n",
    "        return f\"{self.__brand} {self.__model}\"\n",
    "    \n",
    "    @staticmethod\n",
    "    def general_description():\n",
    "        return \"Cars are a mode of transport.\"\n",
    "    \n",
    "    @property\n",
    "    def model(self):\n",
    "        return self.__model"
   ]
  },
  {
   "cell_type": "code",
   "execution_count": 64,
   "id": "6a2db4ef",
   "metadata": {},
   "outputs": [],
   "source": [
    "## Inheritance\n",
    "class ElectricCar(Car):\n",
    "    def __init__(self, brand, model, battery_size):\n",
    "        super().__init__(brand, model)\n",
    "        self.battery_size = battery_size\n",
    "    \n",
    "    def fuel_type(self):\n",
    "        return \"Electric Charge\""
   ]
  },
  {
   "cell_type": "code",
   "execution_count": 66,
   "id": "59167e8f",
   "metadata": {},
   "outputs": [],
   "source": [
    "tesla = ElectricCar(\"Tesla\", \"Model 3\", \"85 KWH\")"
   ]
  },
  {
   "cell_type": "code",
   "execution_count": 67,
   "id": "2cac91f1",
   "metadata": {},
   "outputs": [
    {
     "name": "stdout",
     "output_type": "stream",
     "text": [
      "True\n",
      "True\n"
     ]
    }
   ],
   "source": [
    "print(isinstance(tesla, Car))\n",
    "print(isinstance(tesla, ElectricCar))"
   ]
  },
  {
   "cell_type": "markdown",
   "id": "ad28e28a",
   "metadata": {},
   "source": [
    "## Multiple Inheritance"
   ]
  },
  {
   "cell_type": "code",
   "execution_count": 69,
   "id": "53fd1c40",
   "metadata": {},
   "outputs": [],
   "source": [
    "class Battery:\n",
    "    def battery_info(self):\n",
    "        return \"This is battery.\"\n",
    "\n",
    "class Engine:\n",
    "    def engine_info(self):\n",
    "        return \"This is engine.\""
   ]
  },
  {
   "cell_type": "code",
   "execution_count": 70,
   "id": "7bb21323",
   "metadata": {},
   "outputs": [],
   "source": [
    "## Inheritance from all three\n",
    "class ElectricCar(Car, Battery, Engine):\n",
    "    def __init__(self, brand, model, battery_size):\n",
    "        super().__init__(brand, model)\n",
    "        self.battery_size = battery_size\n",
    "    \n",
    "    def fuel_type(self):\n",
    "        return \"Electric Charge\""
   ]
  },
  {
   "cell_type": "code",
   "execution_count": 71,
   "id": "20bcb7d4",
   "metadata": {},
   "outputs": [],
   "source": [
    "tesla = ElectricCar(\"Tesla\", \"Model S\", \"85 KWH\")"
   ]
  },
  {
   "cell_type": "code",
   "execution_count": 72,
   "id": "d25a404a",
   "metadata": {},
   "outputs": [
    {
     "name": "stdout",
     "output_type": "stream",
     "text": [
      "This is battery.\n",
      "This is engine.\n"
     ]
    }
   ],
   "source": [
    "print(tesla.battery_info())\n",
    "print(tesla.engine_info())"
   ]
  },
  {
   "cell_type": "code",
   "execution_count": null,
   "id": "99b551f2",
   "metadata": {},
   "outputs": [],
   "source": []
  }
 ],
 "metadata": {
  "kernelspec": {
   "display_name": "Python 3",
   "language": "python",
   "name": "python3"
  },
  "language_info": {
   "codemirror_mode": {
    "name": "ipython",
    "version": 3
   },
   "file_extension": ".py",
   "mimetype": "text/x-python",
   "name": "python",
   "nbconvert_exporter": "python",
   "pygments_lexer": "ipython3",
   "version": "3.11.7"
  }
 },
 "nbformat": 4,
 "nbformat_minor": 5
}
